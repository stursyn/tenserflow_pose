{
 "cells": [
  {
   "cell_type": "code",
   "execution_count": 1,
   "metadata": {},
   "outputs": [],
   "source": [
    "import tensorflow as tf\n",
    "import json\n",
    "import os\n",
    "import matplotlib.pyplot as plt\n",
    "import matplotlib.patches as patches\n",
    "from preprocess import Preprocessor\n",
    "import numpy as np\n",
    "import cv2\n",
    "from hourglass104 import StackedHourglassNetwork"
   ]
  },
  {
   "cell_type": "code",
   "execution_count": 2,
   "metadata": {},
   "outputs": [],
   "source": [
    "%load_ext autoreload"
   ]
  },
  {
   "cell_type": "code",
   "execution_count": 3,
   "metadata": {},
   "outputs": [],
   "source": [
    "%autoreload 2\n",
    "os.environ['CUDA_VISIBLE_DEVICES'] = '-1'"
   ]
  },
  {
   "cell_type": "code",
   "execution_count": 4,
   "metadata": {},
   "outputs": [
    {
     "data": {
      "image/png": "[encoded data removed]",
      "text/plain": [
       "<Figure size 720x720 with 1 Axes>"
      ]
     },
     "metadata": {
      "needs_background": "light"
     },
     "output_type": "display_data"
    }
   ],
   "source": [
    "plt.rcParams['figure.figsize'] = (10,10)\n",
    "\n",
    "p = Preprocessor(is_train=True)\n",
    "h = p.generate_2d_guassian(64, 64, 20, 50)\n",
    "\n",
    "plt.imshow(h, cmap='viridis', interpolation='nearest')\n",
    "plt.show()"
   ]
  },
  {
   "cell_type": "code",
   "execution_count": 6,
   "metadata": {},
   "outputs": [],
   "source": [
    "def parse_tfexample(example_proto):\n",
    "    image_feature_description = {\n",
    "        'image/height': tf.io.FixedLenFeature([], tf.int64),\n",
    "        'image/width': tf.io.FixedLenFeature([], tf.int64),\n",
    "        'image/depth': tf.io.FixedLenFeature([], tf.int64),\n",
    "        'image/object/parts/x': tf.io.VarLenFeature(tf.int64),\n",
    "        'image/object/parts/y': tf.io.VarLenFeature(tf.int64),\n",
    "        'image/object/parts/v': tf.io.VarLenFeature(tf.int64),\n",
    "        'image/object/center/x': tf.io.FixedLenFeature([], tf.int64),\n",
    "        'image/object/center/y': tf.io.FixedLenFeature([], tf.int64),\n",
    "        'image/object/scale': tf.io.FixedLenFeature([], tf.float32),\n",
    "        'image/encoded': tf.io.FixedLenFeature([], tf.string),\n",
    "        'image/filename': tf.io.FixedLenFeature([], tf.string),\n",
    "    }\n",
    "    return tf.io.parse_single_example(example_proto,\n",
    "                                      image_feature_description)\n",
    "\n",
    "def parse(example):\n",
    "    features = parse_tfexample(example)\n",
    "    image = tf.io.decode_jpeg(features['image/encoded'])\n",
    "    image, keypoint_x, keypoint_y = p.crop_roi(image, features)\n",
    "#     keypoint_x = tf.cast(tf.sparse.to_dense(features['image/object/parts/x']), dtype=tf.int32)\n",
    "#     keypoint_y = tf.cast(tf.sparse.to_dense(features['image/object/parts/y']), dtype=tf.int32)\n",
    "    return image, keypoint_x, keypoint_y\n",
    "\n",
    "dataset2 = tf.data.Dataset.list_files('./dataset/tfrecords_mpii/train*.tfrecords')\n",
    "dataset2 = tf.data.TFRecordDataset(dataset2)\n",
    "dataset2 = dataset2.map(parse)"
   ]
  },
  {
   "cell_type": "code",
   "execution_count": 7,
   "metadata": {},
   "outputs": [],
   "source": [
    "for image, keypoint_x, keypoint_y in dataset2.take(1):\n",
    "    x = keypoint_x.numpy()\n",
    "    y = keypoint_y.numpy()\n",
    "    fig,ax = plt.subplots(1)\n",
    "    ax.imshow(image)\n",
    "    tf.io.write_file('test2.jpg', tf.io.encode_jpeg(image))\n",
    "    for joint in zip(x, y):\n",
    "        if joint[0] < 0 or joint[1] < 0:\n",
    "            continue\n",
    "        plt.scatter(joint[0] * image.shape[1], joint[1] * image.shape[0], s=10, c='red', marker='o')\n",
    "    plt.show()"
   ]
  },
  {
   "cell_type": "code",
   "execution_count": 8,
   "metadata": {},
   "outputs": [
    {
     "data": {
      "text/plain": [
       "<tf.Tensor: shape=(), dtype=float32, numpy=0.103939965>"
      ]
     },
     "execution_count": 8,
     "metadata": {},
     "output_type": "execute_result"
    }
   ],
   "source": [
    "tf.random.uniform([1], 0.1, 0.3)[0]"
   ]
  },
  {
   "cell_type": "code",
   "execution_count": 9,
   "metadata": {},
   "outputs": [],
   "source": [
    "p = Preprocessor(is_train=True)\n",
    "dataset = tf.data.Dataset.list_files('./dataset/tfrecords_mpii/train*.tfrecords')\n",
    "dataset = tf.data.TFRecordDataset(dataset)\n",
    "dataset = dataset.map(p)\n",
    "\n",
    "images = []\n",
    "heatmaps = [] \n",
    "for image, heatmap in dataset.take(5):\n",
    "    images.append(image.numpy())\n",
    "    heatmaps.append(heatmap.numpy())"
   ]
  },
  {
   "cell_type": "code",
   "execution_count": 10,
   "metadata": {},
   "outputs": [],
   "source": [
    "for image, heatmap in zip(images, heatmaps):\n",
    "    image = (image + 1) * 127.5\n",
    "    \n",
    "    image = cv2.resize(image.astype(np.uint8), dsize=(64, 64), interpolation=cv2.INTER_CUBIC)\n",
    "#     plt.imshow(image)\n",
    "#     plt.show()\n",
    "    combined_map = np.amax(heatmap, axis=2) * 255\n",
    "    heatmap_image = cv2.applyColorMap(combined_map.astype(np.uint8), cv2.COLORMAP_JET)\n",
    "#     plt.imshow(heatmap_image)\n",
    "#     plt.show()\n",
    "    overlayed = cv2.addWeighted(heatmap_image, 0.5, image, 0.5, 0)\n",
    "    plt.imshow(overlayed)\n",
    "    plt.show()"
   ]
  },
  {
   "cell_type": "code",
   "execution_count": 11,
   "metadata": {},
   "outputs": [
    {
     "name": "stdout",
     "output_type": "stream",
     "text": [
      "tf.Tensor(\n",
      "[[[1 1]\n",
      "  [2 2]\n",
      "  [3 3]]\n",
      "\n",
      " [[4 4]\n",
      "  [5 5]\n",
      "  [6 6]]\n",
      "\n",
      " [[7 7]\n",
      "  [8 8]\n",
      "  [9 9]]], shape=(3, 3, 2), dtype=int32)\n"
     ]
    }
   ],
   "source": [
    "heatmap_array = tf.TensorArray(tf.int32, 2)\n",
    "\n",
    "for i in range(2):\n",
    "    heatmap_array = heatmap_array.write(i, tf.convert_to_tensor([[1, 2, 3], [4, 5, 6], [7, 8, 9]]))\n",
    "\n",
    "heatmaps = heatmap_array.stack()\n",
    "heatmaps = tf.transpose(heatmaps, perm=[1, 2, 0])\n",
    "print(heatmaps)"
   ]
  },
  {
   "cell_type": "code",
   "execution_count": null,
   "metadata": {},
   "outputs": [],
   "source": []
  },
  {
   "cell_type": "code",
   "execution_count": null,
   "metadata": {},
   "outputs": [],
   "source": []
  }
 ],
 "metadata": {
  "kernelspec": {
   "display_name": "Python 3",
   "language": "python",
   "name": "python3"
  },
  "language_info": {
   "codemirror_mode": {
    "name": "ipython",
    "version": 3
   },
   "file_extension": ".py",
   "mimetype": "text/x-python",
   "name": "python",
   "nbconvert_exporter": "python",
   "pygments_lexer": "ipython3",
   "version": "3.6.10"
  }
 },
 "nbformat": 4,
 "nbformat_minor": 4
}
